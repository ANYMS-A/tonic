{
 "cells": [
  {
   "cell_type": "markdown",
   "id": "e0dd1dae-47ab-4832-a6d6-17ca23a4b4f4",
   "metadata": {},
   "source": [
    "# Loading DAVIS recordings with events and frames"
   ]
  },
  {
   "cell_type": "code",
   "execution_count": 1,
   "id": "d72047c6-e505-490c-8069-645a6eb7339f",
   "metadata": {},
   "outputs": [
    {
     "name": "stdout",
     "output_type": "stream",
     "text": [
      "Using downloaded and verified file: ./data/davis_dataset/shapes_6dof.bag\n"
     ]
    }
   ],
   "source": [
    "import tonic\n",
    "\n",
    "sensor_size = tonic.datasets.DAVISDATA.sensor_size\n",
    "frame_transform = tonic.transforms.ToFrame(sensor_size=sensor_size, time_window=25000) \n",
    "dataset = tonic.datasets.DAVISDATA(save_to='./data',\n",
    "                                   recording='shapes_6dof'\n",
    "#                                    transform=frame_transform\n",
    ")\n",
    "\n",
    "events, imu, images, target = dataset[0]"
   ]
  },
  {
   "cell_type": "code",
   "execution_count": 3,
   "id": "822187be-4415-4ce5-9b35-5a35a6734668",
   "metadata": {},
   "outputs": [
    {
     "data": {
      "text/plain": [
       "array([       0,      494,      648, ..., 59735396, 59735397, 59735406])"
      ]
     },
     "execution_count": 3,
     "metadata": {},
     "output_type": "execute_result"
    }
   ],
   "source": [
    "events[\"t\"]"
   ]
  },
  {
   "cell_type": "code",
   "execution_count": 6,
   "id": "fae77b07-2bee-4179-bf54-db1de4079c33",
   "metadata": {},
   "outputs": [
    {
     "data": {
      "text/plain": [
       "array([0.00000000e+00, 4.40649986e-02, 8.81299973e-02, ...,\n",
       "       5.96204410e+01, 5.96645060e+01, 5.97085719e+01])"
      ]
     },
     "execution_count": 6,
     "metadata": {},
     "output_type": "execute_result"
    }
   ],
   "source": [
    "images[\"ts\"]-images[\"ts\"][0]"
   ]
  },
  {
   "cell_type": "code",
   "execution_count": 7,
   "id": "a4276644-9848-435d-8de8-a139c57fb17f",
   "metadata": {},
   "outputs": [
    {
     "data": {
      "text/plain": [
       "1356"
      ]
     },
     "execution_count": 7,
     "metadata": {},
     "output_type": "execute_result"
    }
   ],
   "source": [
    "len(images[\"ts\"])\n"
   ]
  }
 ],
 "metadata": {
  "kernelspec": {
   "display_name": "Python 3",
   "language": "python",
   "name": "python3"
  },
  "language_info": {
   "codemirror_mode": {
    "name": "ipython",
    "version": 3
   },
   "file_extension": ".py",
   "mimetype": "text/x-python",
   "name": "python",
   "nbconvert_exporter": "python",
   "pygments_lexer": "ipython3",
   "version": "3.7.11"
  }
 },
 "nbformat": 4,
 "nbformat_minor": 5
}
