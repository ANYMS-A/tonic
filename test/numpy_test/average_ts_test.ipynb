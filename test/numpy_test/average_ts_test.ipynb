{
 "cells": [
  {
   "cell_type": "code",
   "execution_count": null,
   "metadata": {},
   "outputs": [],
   "source": [
    "import numpy as np\n",
    "import spike_data_augmentation\n",
    "import spike_data_augmentation.transforms as transforms\n",
    "from tqdm.auto import tqdm"
   ]
  },
  {
   "cell_type": "markdown",
   "metadata": {},
   "source": [
    "## Download test dataset"
   ]
  },
  {
   "cell_type": "code",
   "execution_count": null,
   "metadata": {},
   "outputs": [],
   "source": [
    "test_set = spike_data_augmentation.datasets.POKERDVS(save_to='./data', train=False, download=False)"
   ]
  },
  {
   "cell_type": "markdown",
   "metadata": {},
   "source": [
    "## Build Average time surfaces"
   ]
  },
  {
   "cell_type": "code",
   "execution_count": null,
   "metadata": {},
   "outputs": [],
   "source": [
    "transform = transforms.Compose([transforms.ToAveragedTimesurface(temporal_window=1000, tau=100, merge_polarities=True)])\n",
    "transform.transforms = [transforms.MaskIsolated(time_filter=10000)] + transform.transforms # noise filter to remove single events\n",
    "\n",
    "dataloader = spike_data_augmentation.datasets.Dataloader(test_set, shuffle=False)\n",
    "\n",
    "surfaces = [transform(events, sensor_size=test_set.sensor_size, ordering=test_set.ordering)\\\n",
    "            for index, (events, target) in enumerate(tqdm(iter(dataloader)))]"
   ]
  },
  {
   "cell_type": "markdown",
   "metadata": {},
   "source": [
    "## Display Average time surfaces"
   ]
  },
  {
   "cell_type": "code",
   "execution_count": null,
   "metadata": {},
   "outputs": [],
   "source": [
    "# import matplotlib.pyplot as plt\n",
    "# fig, axes = plt.subplots(5,5, figsize=(8,8))\n",
    "\n",
    "# for i,ax in enumerate(axes.flat):\n",
    "#     ax.imshow(surfaces[0][i][0])"
   ]
  },
  {
   "cell_type": "code",
   "execution_count": null,
   "metadata": {},
   "outputs": [],
   "source": []
  }
 ],
 "metadata": {
  "kernelspec": {
   "display_name": "Python 3",
   "language": "python",
   "name": "python3"
  },
  "language_info": {
   "codemirror_mode": {
    "name": "ipython",
    "version": 3
   },
   "file_extension": ".py",
   "mimetype": "text/x-python",
   "name": "python",
   "nbconvert_exporter": "python",
   "pygments_lexer": "ipython3",
   "version": "3.7.6"
  }
 },
 "nbformat": 4,
 "nbformat_minor": 4
}
